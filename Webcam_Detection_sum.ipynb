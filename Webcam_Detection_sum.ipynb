{
 "cells": [
  {
   "metadata": {},
   "cell_type": "markdown",
   "source": "# Webcam Detection for traffic signs",
   "id": "36f3d9601e0d5fe9"
  },
  {
   "metadata": {},
   "cell_type": "markdown",
   "source": "The TSD (Traffic Signs Detection) model was trained based on a pretrained model-YOLOv8l by using a customized dataset. This dataset contains five different classes of traffic signs (U-turn, Turn left, Turn right, Go straight and Park), after training the TSD model and using mobile phone camera as a input for live testing, this model can successfully detect and classify all five kinds of traffic signs.",
   "id": "7627c718bb9add99"
  },
  {
   "metadata": {},
   "cell_type": "markdown",
   "source": "The following shows the workflow of how to carry out the training and use mobile phone built-in camera for testing.",
   "id": "62c169bde90d1ade"
  },
  {
   "metadata": {},
   "cell_type": "markdown",
   "source": "## Step 1. Process the data",
   "id": "6424faf800b7818"
  },
  {
   "metadata": {},
   "cell_type": "markdown",
   "source": "",
   "id": "ec4c19613fbd9644"
  },
  {
   "metadata": {},
   "cell_type": "markdown",
   "source": "",
   "id": "38623de50202dbf1"
  }
 ],
 "metadata": {
  "kernelspec": {
   "display_name": "Python 3",
   "language": "python",
   "name": "python3"
  },
  "language_info": {
   "codemirror_mode": {
    "name": "ipython",
    "version": 2
   },
   "file_extension": ".py",
   "mimetype": "text/x-python",
   "name": "python",
   "nbconvert_exporter": "python",
   "pygments_lexer": "ipython2",
   "version": "2.7.6"
  }
 },
 "nbformat": 4,
 "nbformat_minor": 5
}
